{
 "cells": [
  {
   "cell_type": "code",
   "execution_count": 2,
   "metadata": {},
   "outputs": [],
   "source": [
    "import numpy as np\n",
    "import matplotlib.pyplot as plt"
   ]
  },
  {
   "cell_type": "code",
   "execution_count": 3,
   "metadata": {},
   "outputs": [],
   "source": [
    "%matplotlib inline"
   ]
  },
  {
   "cell_type": "markdown",
   "metadata": {},
   "source": [
    "## Méthode des rectangles"
   ]
  },
  {
   "cell_type": "code",
   "execution_count": 88,
   "metadata": {},
   "outputs": [],
   "source": [
    "def rectangleGauche(f, a, b, n):\n",
    "    s = 0\n",
    "    pas = (b - a)/n\n",
    "    x = a\n",
    "    for k in range(n):\n",
    "        s = s + f(x) * pas\n",
    "        x = x + pas\n",
    "    return s\n",
    "\n",
    "def rectangleGauche2(f, a, b, n):\n",
    "    s = 0\n",
    "    pas = (b - a) / n\n",
    "    for k in range(n):\n",
    "        s = s + f(a + k * pas) * pas\n",
    "    return s\n",
    "\n",
    "def rectangleGaucheDessin(f, a, b, n):\n",
    "    s = 0\n",
    "    pas = (b - a)/n\n",
    "    x = a\n",
    "    for k in range(n):\n",
    "        s = s + f(x) * pas\n",
    "        plt.fill([x, x + pas, x + pas, x, x], [0] * 2 + [f(x)] * 2 + [0], hatch='/',edgecolor='black', facecolor='none')\n",
    "        x = x + pas        \n",
    "    lesx = np.linspace(a, b, 1000)  \n",
    "    fvect = np.vectorize(f)\n",
    "    ax = plt.gca()\n",
    "    ax.spines['top'].set_color('none')\n",
    "    ax.spines['right'].set_color('none')\n",
    "    ax.spines['bottom'].set_position(('data',0))\n",
    "    ax.spines['left'].set_position(('data',a))\n",
    "    plt.plot(lesx, fvect(lesx), color='black')\n",
    "    plt.title(r\"Rectangles à gauche $\\int_{%d}^{%d}f(x)dx\\approx$%1.3f\"%(a,b,s))\n",
    "    plt.savefig('methode_rectangle_gauche_{}_{}_{}_{}subdivisions.pdf'.format(f.__name__,a,b,n))\n",
    "    plt.show()\n",
    "    return s"
   ]
  },
  {
   "cell_type": "code",
   "execution_count": 89,
   "metadata": {},
   "outputs": [],
   "source": [
    "def rectangleDroite(f, a, b, n):\n",
    "    s = 0\n",
    "    pas = (b - a)/n\n",
    "    x = a + pas\n",
    "    for k in range(n):\n",
    "        s = s + f(x) * pas\n",
    "        x = x + pas\n",
    "    return s\n",
    "\n",
    "def rectangleDroite2(f, a, b, n):\n",
    "    s = 0\n",
    "    pas = (b - a) / n\n",
    "    for k in range(1, n + 1):\n",
    "        s = s + f(a + k * pas) * pas\n",
    "    return s\n",
    "\n",
    "def rectangleDroiteDessin(f, a, b, n):\n",
    "    s = 0\n",
    "    pas = (b - a)/n\n",
    "    x = a\n",
    "    for k in range(n):\n",
    "        s = s + f(x + pas) * pas\n",
    "        plt.fill([x, x + pas, x + pas, x, x], [0] * 2 + [f(x+pas)] * 2 + [0], hatch='/',edgecolor='black', facecolor='none')\n",
    "        x = x + pas        \n",
    "    lesx = np.linspace(a, b, 1000)  \n",
    "    fvect = np.vectorize(f)\n",
    "    ax = plt.gca()\n",
    "    ax.spines['top'].set_color('none')\n",
    "    ax.spines['right'].set_color('none')\n",
    "    ax.spines['bottom'].set_position(('data',0))\n",
    "    ax.spines['left'].set_position(('data',a))\n",
    "    plt.plot(lesx, fvect(lesx), color='black')\n",
    "    plt.title(r\"Rectangles à droite $\\int_{%d}^{%d}f(x)dx\\approx$%1.3f\"%(a,b,s))\n",
    "    plt.savefig('methodeRectangleDroite-{}-{}-{}-{}subdivisions.pdf'.format(f.__name__,a,b,n))\n",
    "    plt.show()\n",
    "    return s"
   ]
  },
  {
   "cell_type": "code",
   "execution_count": 15,
   "metadata": {},
   "outputs": [],
   "source": [
    "def inverse(x):\n",
    "    return 1 / x"
   ]
  },
  {
   "cell_type": "code",
   "execution_count": 27,
   "metadata": {},
   "outputs": [
    {
     "data": {
      "text/plain": [
       "'inverse'"
      ]
     },
     "execution_count": 27,
     "metadata": {},
     "output_type": "execute_result"
    }
   ],
   "source": [
    "inverse.__name__"
   ]
  },
  {
   "cell_type": "code",
   "execution_count": 79,
   "metadata": {},
   "outputs": [
    {
     "data": {
      "text/plain": [
       "0.7187714031754279"
      ]
     },
     "execution_count": 79,
     "metadata": {},
     "output_type": "execute_result"
    }
   ],
   "source": [
    "rectangleGauche(inverse, 1, 2, 10)"
   ]
  },
  {
   "cell_type": "code",
   "execution_count": 17,
   "metadata": {},
   "outputs": [
    {
     "data": {
      "text/plain": [
       "0.718771403175428"
      ]
     },
     "execution_count": 17,
     "metadata": {},
     "output_type": "execute_result"
    }
   ],
   "source": [
    "rectangleGauche2(inverse, 1, 2, 10)"
   ]
  },
  {
   "cell_type": "code",
   "execution_count": 90,
   "metadata": {},
   "outputs": [
    {
     "data": {
      "image/png": "[encoded data removed]",
      "text/plain": [
       "<Figure size 432x288 with 1 Axes>"
      ]
     },
     "metadata": {
      "needs_background": "light"
     },
     "output_type": "display_data"
    },
    {
     "data": {
      "text/plain": [
       "0.7187714031754279"
      ]
     },
     "execution_count": 90,
     "metadata": {},
     "output_type": "execute_result"
    }
   ],
   "source": [
    "rectangleGaucheDessin(inverse,1,2,10)"
   ]
  },
  {
   "cell_type": "code",
   "execution_count": 68,
   "metadata": {},
   "outputs": [],
   "source": [
    "def carre(x):\n",
    "    return x ** 2"
   ]
  },
  {
   "cell_type": "code",
   "execution_count": 91,
   "metadata": {},
   "outputs": [
    {
     "data": {
      "image/png": "[encoded data removed]",
      "text/plain": [
       "<Figure size 432x288 with 1 Axes>"
      ]
     },
     "metadata": {
      "needs_background": "light"
     },
     "output_type": "display_data"
    },
    {
     "data": {
      "text/plain": [
       "0.2849999999999999"
      ]
     },
     "execution_count": 91,
     "metadata": {},
     "output_type": "execute_result"
    }
   ],
   "source": [
    "rectangleGaucheDessin(carre,0,1,10)"
   ]
  },
  {
   "cell_type": "code",
   "execution_count": 92,
   "metadata": {},
   "outputs": [
    {
     "data": {
      "image/png": "[encoded data removed]",
      "text/plain": [
       "<Figure size 432x288 with 1 Axes>"
      ]
     },
     "metadata": {
      "needs_background": "light"
     },
     "output_type": "display_data"
    },
    {
     "data": {
      "text/plain": [
       "0.3849999999999999"
      ]
     },
     "execution_count": 92,
     "metadata": {},
     "output_type": "execute_result"
    }
   ],
   "source": [
    "rectangleDroiteDessin(carre, 0, 1, 10)"
   ]
  }
 ],
 "metadata": {
  "kernelspec": {
   "display_name": "Python 3",
   "language": "python",
   "name": "python3"
  },
  "language_info": {
   "codemirror_mode": {
    "name": "ipython",
    "version": 3
   },
   "file_extension": ".py",
   "mimetype": "text/x-python",
   "name": "python",
   "nbconvert_exporter": "python",
   "pygments_lexer": "ipython3",
   "version": "3.5.2"
  }
 },
 "nbformat": 4,
 "nbformat_minor": 2
}
