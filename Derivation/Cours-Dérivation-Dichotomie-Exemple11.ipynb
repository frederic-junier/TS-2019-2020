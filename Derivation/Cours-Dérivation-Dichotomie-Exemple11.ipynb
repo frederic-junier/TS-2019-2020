{
 "cells": [
  {
   "cell_type": "markdown",
   "metadata": {},
   "source": [
    "## Import des bibliothèques Python"
   ]
  },
  {
   "cell_type": "code",
   "execution_count": 3,
   "metadata": {},
   "outputs": [],
   "source": [
    "import numpy as np                #pour disposer des tableaux de type array\n",
    "import matplotlib.pyplot as plt   #pour les graphiques"
   ]
  },
  {
   "cell_type": "code",
   "execution_count": 2,
   "metadata": {},
   "outputs": [],
   "source": [
    "%matplotlib inline\n",
    "#pour l'affichage des graphiques dans la page et non pas dans une fenetre pop up"
   ]
  },
  {
   "cell_type": "code",
   "execution_count": 4,
   "metadata": {},
   "outputs": [],
   "source": [
    "import operator                   #pour utiliser les opérateurs de base sous forme de fonctions"
   ]
  },
  {
   "cell_type": "code",
   "execution_count": 5,
   "metadata": {},
   "outputs": [],
   "source": [
    "from sympy import *               #pour le calcul formel\n",
    "init_printing()\n",
    "t = symbols('t')"
   ]
  },
  {
   "cell_type": "code",
   "execution_count": 6,
   "metadata": {},
   "outputs": [],
   "source": [
    "def dérivée(exp, t):\n",
    "    return diff(exp,t)\n",
    "\n",
    "def simplifier(exp):\n",
    "    return simplify(exp)\n",
    "\n",
    "def factoriser(exp):\n",
    "    return factor(exp)"
   ]
  },
  {
   "cell_type": "markdown",
   "metadata": {},
   "source": [
    "## Résolution approchée de $f(x)=0$ par balayage, exemple 11 du cours"
   ]
  },
  {
   "cell_type": "markdown",
   "metadata": {},
   "source": [
    "Soit $f$ la fonction définie sur $\\mathbb{R}$ par $f(x)=x^3-6x^2+6$ definie sur $\\mathbb{R}$ et dérivable sur $\\mathbb{R}$ ."
   ]
  },
  {
   "cell_type": "markdown",
   "metadata": {},
   "source": [
    "### Question 1  : Calcul de dérivée"
   ]
  },
  {
   "cell_type": "code",
   "execution_count": 7,
   "metadata": {},
   "outputs": [
    {
     "data": {
      "image/png": "[encoded data removed]",
      "text/latex": [
       "$\\displaystyle t^{3} - 6 t^{2} + 6$"
      ],
      "text/plain": [
       " 3      2    \n",
       "t  - 6⋅t  + 6"
      ]
     },
     "execution_count": 7,
     "metadata": {},
     "output_type": "execute_result"
    }
   ],
   "source": [
    "#expression de f(x)\n",
    "fexp = t**3 - 6*t**2 + 6\n",
    "fexp"
   ]
  },
  {
   "cell_type": "code",
   "execution_count": 8,
   "metadata": {},
   "outputs": [
    {
     "data": {
      "image/png": "[encoded data removed]",
      "text/latex": [
       "$\\displaystyle 3 t^{2} - 12 t$"
      ],
      "text/plain": [
       "   2       \n",
       "3⋅t  - 12⋅t"
      ]
     },
     "execution_count": 8,
     "metadata": {},
     "output_type": "execute_result"
    }
   ],
   "source": [
    "#expression de f'(x)\n",
    "fprimexp = dérivée(fexp, t)\n",
    "fprimexp"
   ]
  },
  {
   "cell_type": "code",
   "execution_count": 9,
   "metadata": {},
   "outputs": [
    {
     "data": {
      "image/png": "[encoded data removed]",
      "text/latex": [
       "$\\displaystyle 3 t \\left(t - 4\\right)$"
      ],
      "text/plain": [
       "3⋅t⋅(t - 4)"
      ]
     },
     "execution_count": 9,
     "metadata": {},
     "output_type": "execute_result"
    }
   ],
   "source": [
    "simplifier(fprimexp)"
   ]
  },
  {
   "cell_type": "markdown",
   "metadata": {},
   "source": [
    "### Questions 2  et 3 Etude des variations de $f$"
   ]
  },
  {
   "cell_type": "code",
   "execution_count": 11,
   "metadata": {},
   "outputs": [],
   "source": [
    "f = lambdify(t, fexp,\"numpy\")\n",
    "fprim = lambdify(t, fprimexp,\"numpy\")"
   ]
  },
  {
   "cell_type": "code",
   "execution_count": 16,
   "metadata": {},
   "outputs": [
    {
     "data": {
      "text/plain": [
       "<matplotlib.legend.Legend at 0x7f1a30247f60>"
      ]
     },
     "execution_count": 16,
     "metadata": {},
     "output_type": "execute_result"
    },
    {
     "data": {
      "image/png": "[encoded data removed]",
      "text/plain": [
       "<Figure size 432x288 with 1 Axes>"
      ]
     },
     "metadata": {
      "needs_background": "light"
     },
     "output_type": "display_data"
    }
   ],
   "source": [
    "#tracé des  courbes  de f et f'\n",
    "#Message d'erreur pour f' pour le point d'abscisse 0 (division par 0)\n",
    "xmin, xmax, ymin, ymax = -6, 8, -50 , 50\n",
    "plt.axis([xmin, xmax, ymin, ymax])\n",
    "tx = np.linspace(xmin, xmax, 1001)\n",
    "ty = f(tx)\n",
    "tz = fprim(tx)\n",
    "plt.axhline(color='blue')\n",
    "plt.axvline(color='blue')\n",
    "plt.grid(True)\n",
    "plt.plot(tx, ty, linestyle='-', linewidth=2, color='red', label=r'$y=f(x)$')\n",
    "plt.plot(tx, tz, linestyle='-', linewidth=1, color='green', label=r\"$y=f'(x)$\")\n",
    "plt.legend(loc='lower right')\n",
    "         "
   ]
  },
  {
   "cell_type": "markdown",
   "metadata": {},
   "source": [
    "### Question 4 Existence de solutions de l'équation $f(x)=0$"
   ]
  },
  {
   "cell_type": "markdown",
   "metadata": {},
   "source": [
    "* $f:x \\mapsto f(x)=x^3-6x^2+6$ est dérivable donc continue sur $]-\\infty;0]$\n",
    "* $\\lim\\limits_{x\\to -\\infty}f(x)=-\\infty$ et $f(0)>0$\n",
    "* $f$ est strictement croissante sur $]-\\infty;0]$\n",
    "\n",
    "D'après un corollaire du théorème des valeurs intermédiaires, l'équation $f(x)=0$ possède donc une unique solution $\\alpha$ dans l'intervalle $]-\\infty;0]$."
   ]
  },
  {
   "cell_type": "markdown",
   "metadata": {},
   "source": [
    "* $f:x \\mapsto f(x)=x^3-6x^2+6$ est dérivable donc continue sur $[0;4]$\n",
    "* $f(0)>0$ et $f(4)<0$\n",
    "* $f$ est strictement croissante sur $[0;4]$\n",
    "\n",
    "D'après un corollaire du théorème des valeurs intermédiaires, l'équation $f(x)=0$ possède donc une unique solution $\\alpha$ dans l'intervalle $[0;4]$"
   ]
  },
  {
   "cell_type": "markdown",
   "metadata": {},
   "source": [
    "* $f:x \\mapsto f(x)=x^3-6x^2+6$ est dérivable donc continue sur $[4;+\\infty[$\n",
    "*   $f(4)<0$ et $\\lim\\limits_{x\\to +\\infty}f(x)=+\\infty$\n",
    "* $f$ est strictement croissante sur $[4;+\\infty[$\n",
    "\n",
    "D'après un corollaire du théorème des valeurs intermédiaires, l'équation $f(x)=0$ possède donc une unique solution $\\alpha$ dans l'intervalle $[4;+\\infty[$."
   ]
  },
  {
   "cell_type": "markdown",
   "metadata": {},
   "source": [
    "## Résolution approchée par balayage"
   ]
  },
  {
   "cell_type": "code",
   "execution_count": 17,
   "metadata": {},
   "outputs": [],
   "source": [
    "def balayage(g, a, b, pas, k):\n",
    "    \"\"\"Retourne un intervalle d'amplitude pas encadrant l'unique solution de g(x)= k\n",
    "    dans l'intervalle [a,b]\"\"\"\n",
    "    if g(a) < k:\n",
    "        comparaison = lambda u, v : operator.lt(u,v)\n",
    "    else:\n",
    "        comparaison = lambda u, v : operator.gt(u,v)\n",
    "    x = a\n",
    "    #en-tete du tableau\n",
    "    print('|{etape:^16}|{t:^12}|{ft:^12}|'.format(etape='Etape', t='t', ft='g(t)'))\n",
    "    count = 1\n",
    "    while comparaison(g(x), k):\n",
    "        print('|{etape:^16}|{t:^12.6f}|{ft:^12.6f}|'.format(etape=count,t=x, ft=g(x)))\n",
    "        x += pas\n",
    "        count += 1\n",
    "    print('|{etape:^16}|{t:^12.6f}|{ft:^12.6f}|'.format(etape=count,t=x, ft=g(x)))       \n",
    "    return x - pas, x"
   ]
  },
  {
   "cell_type": "code",
   "execution_count": 19,
   "metadata": {},
   "outputs": [
    {
     "name": "stdout",
     "output_type": "stream",
     "text": [
      "|     Etape      |     t      |    g(t)    |\n",
      "|       1        |  5.000000  | -19.000000 |\n",
      "|       2        |  5.100000  | -17.409000 |\n",
      "|       3        |  5.200000  | -15.632000 |\n",
      "|       4        |  5.300000  | -13.663000 |\n",
      "|       5        |  5.400000  | -11.496000 |\n",
      "|       6        |  5.500000  | -9.125000  |\n",
      "|       7        |  5.600000  | -6.544000  |\n",
      "|       8        |  5.700000  | -3.747000  |\n",
      "|       9        |  5.800000  | -0.728000  |\n",
      "|       10       |  5.900000  |  2.519000  |\n"
     ]
    },
    {
     "data": {
      "image/png": "[encoded data removed]",
      "text/latex": [
       "$\\displaystyle \\left( 5.799999999999997, \\  5.899999999999997\\right)$"
      ],
      "text/plain": [
       "(5.799999999999997, 5.899999999999997)"
      ]
     },
     "execution_count": 19,
     "metadata": {},
     "output_type": "execute_result"
    }
   ],
   "source": [
    "balayage(f, 5, 6, 0.1, 0)"
   ]
  },
  {
   "cell_type": "code",
   "execution_count": 20,
   "metadata": {},
   "outputs": [
    {
     "name": "stdout",
     "output_type": "stream",
     "text": [
      "|     Etape      |     t      |    g(t)    |\n",
      "|       1        |  5.800000  | -0.728000  |\n",
      "|       2        |  5.810000  | -0.413659  |\n",
      "|       3        |  5.820000  | -0.097032  |\n",
      "|       4        |  5.830000  |  0.221887  |\n"
     ]
    },
    {
     "data": {
      "image/png": "[encoded data removed]",
      "text/latex": [
       "$\\displaystyle \\left( 5.819999999999999, \\  5.829999999999999\\right)$"
      ],
      "text/plain": [
       "(5.819999999999999, 5.829999999999999)"
      ]
     },
     "execution_count": 20,
     "metadata": {},
     "output_type": "execute_result"
    }
   ],
   "source": [
    "balayage(f, 5.8, 5.9, 0.01, 0)"
   ]
  },
  {
   "cell_type": "code",
   "execution_count": 21,
   "metadata": {},
   "outputs": [
    {
     "name": "stdout",
     "output_type": "stream",
     "text": [
      "|     Etape      |     t      |    g(t)    |\n",
      "|       1        |  5.820000  | -0.097032  |\n",
      "|       2        |  5.821000  | -0.065243  |\n",
      "|       3        |  5.822000  | -0.033432  |\n",
      "|       4        |  5.823000  | -0.001597  |\n",
      "|       5        |  5.824000  |  0.030260  |\n"
     ]
    },
    {
     "data": {
      "image/png": "[encoded data removed]",
      "text/latex": [
       "$\\displaystyle \\left( 5.823000000000001, \\  5.824000000000002\\right)$"
      ],
      "text/plain": [
       "(5.823000000000001, 5.824000000000002)"
      ]
     },
     "execution_count": 21,
     "metadata": {},
     "output_type": "execute_result"
    }
   ],
   "source": [
    "balayage(f, 5.82, 5.83, 0.001, 0)"
   ]
  }
 ],
 "metadata": {
  "kernelspec": {
   "display_name": "Python 3",
   "language": "python",
   "name": "python3"
  },
  "language_info": {
   "codemirror_mode": {
    "name": "ipython",
    "version": 3
   },
   "file_extension": ".py",
   "mimetype": "text/x-python",
   "name": "python",
   "nbconvert_exporter": "python",
   "pygments_lexer": "ipython3",
   "version": "3.6.8"
  }
 },
 "nbformat": 4,
 "nbformat_minor": 1
}
