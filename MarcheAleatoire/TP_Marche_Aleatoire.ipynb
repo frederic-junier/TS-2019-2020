{
 "cells": [
  {
   "cell_type": "code",
   "execution_count": 9,
   "metadata": {},
   "outputs": [],
   "source": [
    "import matplotlib.pyplot as plt\n",
    "import numpy as np\n",
    "from random import random"
   ]
  },
  {
   "cell_type": "code",
   "execution_count": 10,
   "metadata": {},
   "outputs": [],
   "source": [
    "%matplotlib inline"
   ]
  },
  {
   "cell_type": "code",
   "execution_count": 8,
   "metadata": {},
   "outputs": [],
   "source": [
    "import matplotlib.pyplot as plt\n",
    "import numpy as np\n",
    "from random import random\n",
    "\n",
    "\n",
    "def partie(p):\n",
    "    \"\"\"Simule un duel  du jeu suivant :\n",
    "        joueur A + 1 et joueur B  -1 avec une probabilité de p\n",
    "        sinon joueur A +1 et joueur B -1\n",
    "     Retourne le nombre de parties nécessaires pour obtenir un vainqueur\n",
    "    \"\"\"\n",
    "    #numéro de partie\n",
    "    n = 0\n",
    "    #ordonnée (score de A)\n",
    "    yA = 0\n",
    "    #liste des numéros de partie\n",
    "    listn = []\n",
    "    #liste des ordonnées\n",
    "    listyA = []\n",
    "    #modifier la condition d'entrée de boucle\n",
    "    while yA != 5 and yA != -5:\n",
    "        #expérience aléatoire\n",
    "        nombre_aleatoire = random()\n",
    "        #modification de yA\n",
    "        if nombre_aleatoire < p:\n",
    "            \"à compléter\"\n",
    "            yA = yA + 1\n",
    "        else:\n",
    "            \"à compléter\"\n",
    "            yA = yA - 1\n",
    "        #mise à jour des listes d'abscisses et d'ordonnées\n",
    "        n = n + 1\n",
    "        listn.append(n)\n",
    "        listyA.append(yA)\n",
    "    #tracé du graphique\n",
    "    plt.plot(listn, listyA, 'ro')\n",
    "    plt.savefig(\"simulation-p{}.png\".format(p))\n",
    "    plt.grid()\n",
    "    plt.axhline(0)\n",
    "    plt.axvline(0)\n",
    "    plt.title('Score du joueur A, p = {}'.format(p))\n",
    "    plt.show()\n",
    "    return n\n",
    "\n",
    "def partie2(p):\n",
    "    \"\"\"Simule un duel  du jeu suivant :\n",
    "        joueur A + 1 et joueur B  -1 avec une probabilité de p\n",
    "        sinon joueur A +1 et joueur B -1\n",
    "     Retourne le nombre de parties nécessaires pour obtenir un vainqueur sans générer de graphique\n",
    "    \"\"\"\n",
    "    #numéro de partie\n",
    "    n = 0\n",
    "    #ordonnée (score de A)\n",
    "    yA = 0\n",
    "    #modifier la condition d'entrée de boucle\n",
    "    while yA != 5 and yA != -5:\n",
    "        #expérience aléatoire\n",
    "        nombre_aleatoire = random()\n",
    "        #modification de yA\n",
    "        if nombre_aleatoire < p:\n",
    "            \"à compléter\"\n",
    "            yA = yA + 1\n",
    "        else:\n",
    "            \"à compléter\"\n",
    "            yA = yA - 1\n",
    "        #mise à jour des listes d'abscisses et d'ordonnées\n",
    "        n = n + 1       \n",
    "    return n\n",
    "\n",
    "def vainqueur(p):\n",
    "    \"\"\"Simule un duel du jeu suivant :\n",
    "        joueur A + 1 et joueur B  -1 avec une probabilité de p\n",
    "        sinon joueur A +1 et joueur B -1\n",
    "        Le duel s'arrete des qu'un joueur atteint 5\n",
    "       Retourne 1 si A vainqueur et 0 sinon\n",
    "    \"\"\"\n",
    "    #numéro de partie\n",
    "    n = 0\n",
    "    #ordonnée (score de A)\n",
    "    yA = 0\n",
    "    while yA != 5 and yA != -5:\n",
    "        #expérience aléatoire\n",
    "        nombre_aleatoire = random()\n",
    "        #modification de yA\n",
    "        if nombre_aleatoire < p:\n",
    "            yA = yA + 1\n",
    "        else:\n",
    "            yA = yA - 1\n",
    "    if yA == 5:\n",
    "        return 1\n",
    "    else:\n",
    "        return 0\n",
    "\n",
    "def frequenceA_echantillon(nbexp, p):\n",
    "    \"\"\"Retourne la fréquence de victoires de A\n",
    "    sur un échantillon de nbexp duels\n",
    "    \"\"\"\n",
    "    victoireA = 0\n",
    "    for k in range(nbexp):\n",
    "        victoireA = victoireA + vainqueur(p)\n",
    "    return victoireA / nbexp\n",
    "\n",
    "def frequenceB_echantillon(nbexp, p):\n",
    "    return 1 - frequenceA_echantillon(nbexp, p)\n",
    "\n",
    "\n",
    "def nombre_moyen_parties(nbexp, p):\n",
    "    \"\"\"Retourne le nombre moyen de parties\n",
    "    sur un échantillon de nbexp duels\"\"\"\n",
    "    nbParties = 0\n",
    "    for k in range(nbexp):\n",
    "        nbParties = nbParties + partie2(p)\n",
    "    return nbParties / nbexp\n",
    "\n",
    "        "
   ]
  },
  {
   "cell_type": "code",
   "execution_count": 9,
   "metadata": {},
   "outputs": [
    {
     "data": {
      "image/png": "[encoded data removed]",
      "text/plain": [
       "<Figure size 432x288 with 1 Axes>"
      ]
     },
     "metadata": {
      "needs_background": "light"
     },
     "output_type": "display_data"
    },
    {
     "data": {
      "text/plain": [
       "25"
      ]
     },
     "execution_count": 9,
     "metadata": {},
     "output_type": "execute_result"
    }
   ],
   "source": [
    "partie(0.6)"
   ]
  },
  {
   "cell_type": "code",
   "execution_count": 16,
   "metadata": {},
   "outputs": [
    {
     "data": {
      "image/png": "[encoded data removed]",
      "text/plain": [
       "<Figure size 432x288 with 1 Axes>"
      ]
     },
     "metadata": {
      "needs_background": "light"
     },
     "output_type": "display_data"
    }
   ],
   "source": [
    "listnbexp = [10 ** k for k in range(1, 7)]\n",
    "listfreq = []\n",
    "for nbexp in listnbexp:\n",
    "    listfreq.append(frequenceA_echantillon(nbexp, 0.6))\n",
    "plt.semilogx(listnbexp, listfreq, 'og')\n",
    "plt.title('Fréquence de victoires de A')\n",
    "plt.ylabel('Fréquence')\n",
    "plt.xlabel('Taille de l\\'échantillon')\n",
    "plt.show()"
   ]
  },
  {
   "cell_type": "code",
   "execution_count": 21,
   "metadata": {},
   "outputs": [
    {
     "data": {
      "image/png": "[encoded data removed]",
      "text/plain": [
       "<Figure size 432x288 with 1 Axes>"
      ]
     },
     "metadata": {
      "needs_background": "light"
     },
     "output_type": "display_data"
    }
   ],
   "source": [
    "listnbexp = [10 ** k for k in range(1, 7)]\n",
    "listnbparties = []\n",
    "for nbexp in listnbexp:\n",
    "    listnbparties.append(nombre_moyen_parties(nbexp, 0.6))\n",
    "plt.semilogx(listnbexp, listnbparties, 'ob')\n",
    "plt.title('Nombre de parties par duel')\n",
    "plt.ylabel('Nombre de parties')\n",
    "plt.xlabel('Taille de l\\'échantillon')\n",
    "plt.show()"
   ]
  }
 ],
 "metadata": {
  "kernelspec": {
   "display_name": "Python 3",
   "language": "python",
   "name": "python3"
  },
  "language_info": {
   "codemirror_mode": {
    "name": "ipython",
    "version": 3
   },
   "file_extension": ".py",
   "mimetype": "text/x-python",
   "name": "python",
   "nbconvert_exporter": "python",
   "pygments_lexer": "ipython3",
   "version": "3.6.9"
  }
 },
 "nbformat": 4,
 "nbformat_minor": 2
}
